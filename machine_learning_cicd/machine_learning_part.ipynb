{
  "nbformat": 4,
  "nbformat_minor": 0,
  "metadata": {
    "colab": {
      "name": "chiller_system_2021_0401.ipynb",
      "provenance": []
    },
    "kernelspec": {
      "display_name": "Python 3",
      "name": "python3"
    },
    "language_info": {
      "name": "python"
    }
  },
  "cells": [
    {
      "cell_type": "markdown",
      "metadata": {
        "id": "lRrusHCiUt2R"
      },
      "source": [
        "## prepare"
      ]
    },
    {
      "cell_type": "code",
      "metadata": {
        "colab": {
          "base_uri": "https://localhost:8080/",
          "height": 224
        },
        "id": "lIVzgq0WZylB",
        "outputId": "db824f51-4753-4c76-931d-3919518627e2"
      },
      "source": [
        "import pandas as pd\n",
        "df = pd.read_csv('dealed_11_12_15_2021_0401_2021_0425.csv')\n",
        "print(f'dealed_11_12_15_2021_0401_2021_0425.csv: {df.shape}')\n",
        "df.head()"
      ],
      "execution_count": null,
      "outputs": [
        {
          "output_type": "stream",
          "text": [
            "dealed_11_12_15_2021_0401_2021_0425.csv: (3157497, 13)\n"
          ],
          "name": "stdout"
        },
        {
          "output_type": "execute_result",
          "data": {
            "text/html": [
              "<div>\n",
              "<style scoped>\n",
              "    .dataframe tbody tr th:only-of-type {\n",
              "        vertical-align: middle;\n",
              "    }\n",
              "\n",
              "    .dataframe tbody tr th {\n",
              "        vertical-align: top;\n",
              "    }\n",
              "\n",
              "    .dataframe thead th {\n",
              "        text-align: right;\n",
              "    }\n",
              "</style>\n",
              "<table border=\"1\" class=\"dataframe\">\n",
              "  <thead>\n",
              "    <tr style=\"text-align: right;\">\n",
              "      <th></th>\n",
              "      <th>Unnamed: 0</th>\n",
              "      <th>machine</th>\n",
              "      <th>timestamp</th>\n",
              "      <th>avgvalue</th>\n",
              "      <th>lastvalue</th>\n",
              "      <th>year</th>\n",
              "      <th>month</th>\n",
              "      <th>day</th>\n",
              "      <th>weekday</th>\n",
              "      <th>weekofyear</th>\n",
              "      <th>hour</th>\n",
              "      <th>minute</th>\n",
              "      <th>timing</th>\n",
              "    </tr>\n",
              "  </thead>\n",
              "  <tbody>\n",
              "    <tr>\n",
              "      <th>0</th>\n",
              "      <td>0</td>\n",
              "      <td>CHS_TT11</td>\n",
              "      <td>2021-04-01 00:00:00</td>\n",
              "      <td>6.200000</td>\n",
              "      <td>6.200000</td>\n",
              "      <td>2021</td>\n",
              "      <td>4</td>\n",
              "      <td>1</td>\n",
              "      <td>Thursday</td>\n",
              "      <td>13</td>\n",
              "      <td>0</td>\n",
              "      <td>0</td>\n",
              "      <td>Night</td>\n",
              "    </tr>\n",
              "    <tr>\n",
              "      <th>1</th>\n",
              "      <td>1</td>\n",
              "      <td>CHR_TT12</td>\n",
              "      <td>2021-04-01 00:00:00</td>\n",
              "      <td>12.012501</td>\n",
              "      <td>12.012501</td>\n",
              "      <td>2021</td>\n",
              "      <td>4</td>\n",
              "      <td>1</td>\n",
              "      <td>Thursday</td>\n",
              "      <td>13</td>\n",
              "      <td>0</td>\n",
              "      <td>0</td>\n",
              "      <td>Night</td>\n",
              "    </tr>\n",
              "    <tr>\n",
              "      <th>2</th>\n",
              "      <td>2</td>\n",
              "      <td>CHR_TT15</td>\n",
              "      <td>2021-04-01 00:00:00</td>\n",
              "      <td>9.325001</td>\n",
              "      <td>9.312501</td>\n",
              "      <td>2021</td>\n",
              "      <td>4</td>\n",
              "      <td>1</td>\n",
              "      <td>Thursday</td>\n",
              "      <td>13</td>\n",
              "      <td>0</td>\n",
              "      <td>0</td>\n",
              "      <td>Night</td>\n",
              "    </tr>\n",
              "    <tr>\n",
              "      <th>3</th>\n",
              "      <td>3</td>\n",
              "      <td>CHS_TT11</td>\n",
              "      <td>2021-04-01 00:00:02</td>\n",
              "      <td>6.200000</td>\n",
              "      <td>6.200000</td>\n",
              "      <td>2021</td>\n",
              "      <td>4</td>\n",
              "      <td>1</td>\n",
              "      <td>Thursday</td>\n",
              "      <td>13</td>\n",
              "      <td>0</td>\n",
              "      <td>0</td>\n",
              "      <td>Night</td>\n",
              "    </tr>\n",
              "    <tr>\n",
              "      <th>4</th>\n",
              "      <td>4</td>\n",
              "      <td>CHR_TT12</td>\n",
              "      <td>2021-04-01 00:00:02</td>\n",
              "      <td>12.000001</td>\n",
              "      <td>12.000001</td>\n",
              "      <td>2021</td>\n",
              "      <td>4</td>\n",
              "      <td>1</td>\n",
              "      <td>Thursday</td>\n",
              "      <td>13</td>\n",
              "      <td>0</td>\n",
              "      <td>0</td>\n",
              "      <td>Night</td>\n",
              "    </tr>\n",
              "  </tbody>\n",
              "</table>\n",
              "</div>"
            ],
            "text/plain": [
              "   Unnamed: 0   machine            timestamp  ...  hour  minute  timing\n",
              "0           0  CHS_TT11  2021-04-01 00:00:00  ...     0       0   Night\n",
              "1           1  CHR_TT12  2021-04-01 00:00:00  ...     0       0   Night\n",
              "2           2  CHR_TT15  2021-04-01 00:00:00  ...     0       0   Night\n",
              "3           3  CHS_TT11  2021-04-01 00:00:02  ...     0       0   Night\n",
              "4           4  CHR_TT12  2021-04-01 00:00:02  ...     0       0   Night\n",
              "\n",
              "[5 rows x 13 columns]"
            ]
          },
          "metadata": {
            "tags": []
          },
          "execution_count": 7
        }
      ]
    },
    {
      "cell_type": "code",
      "metadata": {
        "colab": {
          "base_uri": "https://localhost:8080/",
          "height": 205
        },
        "id": "rqxlS1l4FKVA",
        "outputId": "49eb6389-1f4d-422f-b8e9-dc0fd9b7fb4f"
      },
      "source": [
        "df.tail()"
      ],
      "execution_count": null,
      "outputs": [
        {
          "output_type": "execute_result",
          "data": {
            "text/html": [
              "<div>\n",
              "<style scoped>\n",
              "    .dataframe tbody tr th:only-of-type {\n",
              "        vertical-align: middle;\n",
              "    }\n",
              "\n",
              "    .dataframe tbody tr th {\n",
              "        vertical-align: top;\n",
              "    }\n",
              "\n",
              "    .dataframe thead th {\n",
              "        text-align: right;\n",
              "    }\n",
              "</style>\n",
              "<table border=\"1\" class=\"dataframe\">\n",
              "  <thead>\n",
              "    <tr style=\"text-align: right;\">\n",
              "      <th></th>\n",
              "      <th>Unnamed: 0</th>\n",
              "      <th>machine</th>\n",
              "      <th>timestamp</th>\n",
              "      <th>avgvalue</th>\n",
              "      <th>lastvalue</th>\n",
              "      <th>year</th>\n",
              "      <th>month</th>\n",
              "      <th>day</th>\n",
              "      <th>weekday</th>\n",
              "      <th>weekofyear</th>\n",
              "      <th>hour</th>\n",
              "      <th>minute</th>\n",
              "      <th>timing</th>\n",
              "    </tr>\n",
              "  </thead>\n",
              "  <tbody>\n",
              "    <tr>\n",
              "      <th>3157492</th>\n",
              "      <td>3157492</td>\n",
              "      <td>CHR_TT12</td>\n",
              "      <td>2021-04-25 23:59:56</td>\n",
              "      <td>12.018751</td>\n",
              "      <td>12.025001</td>\n",
              "      <td>2021</td>\n",
              "      <td>4</td>\n",
              "      <td>25</td>\n",
              "      <td>Sunday</td>\n",
              "      <td>16</td>\n",
              "      <td>23</td>\n",
              "      <td>59</td>\n",
              "      <td>Night</td>\n",
              "    </tr>\n",
              "    <tr>\n",
              "      <th>3157493</th>\n",
              "      <td>3157493</td>\n",
              "      <td>CHS_TT11</td>\n",
              "      <td>2021-04-25 23:59:56</td>\n",
              "      <td>6.818750</td>\n",
              "      <td>6.825000</td>\n",
              "      <td>2021</td>\n",
              "      <td>4</td>\n",
              "      <td>25</td>\n",
              "      <td>Sunday</td>\n",
              "      <td>16</td>\n",
              "      <td>23</td>\n",
              "      <td>59</td>\n",
              "      <td>Night</td>\n",
              "    </tr>\n",
              "    <tr>\n",
              "      <th>3157494</th>\n",
              "      <td>3157494</td>\n",
              "      <td>CHS_TT11</td>\n",
              "      <td>2021-04-25 23:59:58</td>\n",
              "      <td>6.825000</td>\n",
              "      <td>6.825000</td>\n",
              "      <td>2021</td>\n",
              "      <td>4</td>\n",
              "      <td>25</td>\n",
              "      <td>Sunday</td>\n",
              "      <td>16</td>\n",
              "      <td>23</td>\n",
              "      <td>59</td>\n",
              "      <td>Night</td>\n",
              "    </tr>\n",
              "    <tr>\n",
              "      <th>3157495</th>\n",
              "      <td>3157495</td>\n",
              "      <td>CHR_TT12</td>\n",
              "      <td>2021-04-25 23:59:58</td>\n",
              "      <td>12.025001</td>\n",
              "      <td>12.025001</td>\n",
              "      <td>2021</td>\n",
              "      <td>4</td>\n",
              "      <td>25</td>\n",
              "      <td>Sunday</td>\n",
              "      <td>16</td>\n",
              "      <td>23</td>\n",
              "      <td>59</td>\n",
              "      <td>Night</td>\n",
              "    </tr>\n",
              "    <tr>\n",
              "      <th>3157496</th>\n",
              "      <td>3157496</td>\n",
              "      <td>CHR_TT15</td>\n",
              "      <td>2021-04-25 23:59:58</td>\n",
              "      <td>9.062500</td>\n",
              "      <td>9.050000</td>\n",
              "      <td>2021</td>\n",
              "      <td>4</td>\n",
              "      <td>25</td>\n",
              "      <td>Sunday</td>\n",
              "      <td>16</td>\n",
              "      <td>23</td>\n",
              "      <td>59</td>\n",
              "      <td>Night</td>\n",
              "    </tr>\n",
              "  </tbody>\n",
              "</table>\n",
              "</div>"
            ],
            "text/plain": [
              "         Unnamed: 0   machine           timestamp  ...  hour  minute  timing\n",
              "3157492     3157492  CHR_TT12 2021-04-25 23:59:56  ...    23      59   Night\n",
              "3157493     3157493  CHS_TT11 2021-04-25 23:59:56  ...    23      59   Night\n",
              "3157494     3157494  CHS_TT11 2021-04-25 23:59:58  ...    23      59   Night\n",
              "3157495     3157495  CHR_TT12 2021-04-25 23:59:58  ...    23      59   Night\n",
              "3157496     3157496  CHR_TT15 2021-04-25 23:59:58  ...    23      59   Night\n",
              "\n",
              "[5 rows x 13 columns]"
            ]
          },
          "metadata": {
            "tags": []
          },
          "execution_count": 10
        }
      ]
    },
    {
      "cell_type": "code",
      "metadata": {
        "id": "9Xv67Gv1aQpP"
      },
      "source": [
        "df['timestamp'] = pd.to_datetime(df['timestamp'])"
      ],
      "execution_count": null,
      "outputs": []
    },
    {
      "cell_type": "markdown",
      "metadata": {
        "id": "MzhWWuwrW864"
      },
      "source": [
        "## Plot the data"
      ]
    },
    {
      "cell_type": "code",
      "metadata": {
        "colab": {
          "base_uri": "https://localhost:8080/",
          "height": 143
        },
        "id": "yn0Wzy9KmfTP",
        "outputId": "f65fd8dc-1730-43de-9068-4c46891fbb70"
      },
      "source": [
        "df.head(3)"
      ],
      "execution_count": null,
      "outputs": [
        {
          "output_type": "execute_result",
          "data": {
            "text/html": [
              "<div>\n",
              "<style scoped>\n",
              "    .dataframe tbody tr th:only-of-type {\n",
              "        vertical-align: middle;\n",
              "    }\n",
              "\n",
              "    .dataframe tbody tr th {\n",
              "        vertical-align: top;\n",
              "    }\n",
              "\n",
              "    .dataframe thead th {\n",
              "        text-align: right;\n",
              "    }\n",
              "</style>\n",
              "<table border=\"1\" class=\"dataframe\">\n",
              "  <thead>\n",
              "    <tr style=\"text-align: right;\">\n",
              "      <th></th>\n",
              "      <th>Unnamed: 0</th>\n",
              "      <th>machine</th>\n",
              "      <th>timestamp</th>\n",
              "      <th>avgvalue</th>\n",
              "      <th>lastvalue</th>\n",
              "      <th>year</th>\n",
              "      <th>month</th>\n",
              "      <th>day</th>\n",
              "      <th>weekday</th>\n",
              "      <th>weekofyear</th>\n",
              "      <th>hour</th>\n",
              "      <th>minute</th>\n",
              "      <th>timing</th>\n",
              "    </tr>\n",
              "  </thead>\n",
              "  <tbody>\n",
              "    <tr>\n",
              "      <th>0</th>\n",
              "      <td>0</td>\n",
              "      <td>CHS_TT11</td>\n",
              "      <td>2021-04-01</td>\n",
              "      <td>6.200000</td>\n",
              "      <td>6.200000</td>\n",
              "      <td>2021</td>\n",
              "      <td>4</td>\n",
              "      <td>1</td>\n",
              "      <td>Thursday</td>\n",
              "      <td>13</td>\n",
              "      <td>0</td>\n",
              "      <td>0</td>\n",
              "      <td>Night</td>\n",
              "    </tr>\n",
              "    <tr>\n",
              "      <th>1</th>\n",
              "      <td>1</td>\n",
              "      <td>CHR_TT12</td>\n",
              "      <td>2021-04-01</td>\n",
              "      <td>12.012501</td>\n",
              "      <td>12.012501</td>\n",
              "      <td>2021</td>\n",
              "      <td>4</td>\n",
              "      <td>1</td>\n",
              "      <td>Thursday</td>\n",
              "      <td>13</td>\n",
              "      <td>0</td>\n",
              "      <td>0</td>\n",
              "      <td>Night</td>\n",
              "    </tr>\n",
              "    <tr>\n",
              "      <th>2</th>\n",
              "      <td>2</td>\n",
              "      <td>CHR_TT15</td>\n",
              "      <td>2021-04-01</td>\n",
              "      <td>9.325001</td>\n",
              "      <td>9.312501</td>\n",
              "      <td>2021</td>\n",
              "      <td>4</td>\n",
              "      <td>1</td>\n",
              "      <td>Thursday</td>\n",
              "      <td>13</td>\n",
              "      <td>0</td>\n",
              "      <td>0</td>\n",
              "      <td>Night</td>\n",
              "    </tr>\n",
              "  </tbody>\n",
              "</table>\n",
              "</div>"
            ],
            "text/plain": [
              "   Unnamed: 0   machine  timestamp   avgvalue  ...  weekofyear  hour  minute  timing\n",
              "0           0  CHS_TT11 2021-04-01   6.200000  ...          13     0       0   Night\n",
              "1           1  CHR_TT12 2021-04-01  12.012501  ...          13     0       0   Night\n",
              "2           2  CHR_TT15 2021-04-01   9.325001  ...          13     0       0   Night\n",
              "\n",
              "[3 rows x 13 columns]"
            ]
          },
          "metadata": {
            "tags": []
          },
          "execution_count": 12
        }
      ]
    },
    {
      "cell_type": "code",
      "metadata": {
        "colab": {
          "base_uri": "https://localhost:8080/",
          "height": 205
        },
        "id": "fqO7x3jVmp3a",
        "outputId": "8b832f0b-31f7-46dd-ae8e-ed4478cc57ed"
      },
      "source": [
        "TT11 = df[df[\"machine\"] == \"CHS_TT11\"]\n",
        "TT11 = TT11.reset_index()\n",
        "TT11.head()"
      ],
      "execution_count": null,
      "outputs": [
        {
          "output_type": "execute_result",
          "data": {
            "text/html": [
              "<div>\n",
              "<style scoped>\n",
              "    .dataframe tbody tr th:only-of-type {\n",
              "        vertical-align: middle;\n",
              "    }\n",
              "\n",
              "    .dataframe tbody tr th {\n",
              "        vertical-align: top;\n",
              "    }\n",
              "\n",
              "    .dataframe thead th {\n",
              "        text-align: right;\n",
              "    }\n",
              "</style>\n",
              "<table border=\"1\" class=\"dataframe\">\n",
              "  <thead>\n",
              "    <tr style=\"text-align: right;\">\n",
              "      <th></th>\n",
              "      <th>index</th>\n",
              "      <th>Unnamed: 0</th>\n",
              "      <th>machine</th>\n",
              "      <th>timestamp</th>\n",
              "      <th>avgvalue</th>\n",
              "      <th>lastvalue</th>\n",
              "      <th>year</th>\n",
              "      <th>month</th>\n",
              "      <th>day</th>\n",
              "      <th>weekday</th>\n",
              "      <th>weekofyear</th>\n",
              "      <th>hour</th>\n",
              "      <th>minute</th>\n",
              "      <th>timing</th>\n",
              "    </tr>\n",
              "  </thead>\n",
              "  <tbody>\n",
              "    <tr>\n",
              "      <th>0</th>\n",
              "      <td>0</td>\n",
              "      <td>0</td>\n",
              "      <td>CHS_TT11</td>\n",
              "      <td>2021-04-01 00:00:00</td>\n",
              "      <td>6.2</td>\n",
              "      <td>6.2</td>\n",
              "      <td>2021</td>\n",
              "      <td>4</td>\n",
              "      <td>1</td>\n",
              "      <td>Thursday</td>\n",
              "      <td>13</td>\n",
              "      <td>0</td>\n",
              "      <td>0</td>\n",
              "      <td>Night</td>\n",
              "    </tr>\n",
              "    <tr>\n",
              "      <th>1</th>\n",
              "      <td>3</td>\n",
              "      <td>3</td>\n",
              "      <td>CHS_TT11</td>\n",
              "      <td>2021-04-01 00:00:02</td>\n",
              "      <td>6.2</td>\n",
              "      <td>6.2</td>\n",
              "      <td>2021</td>\n",
              "      <td>4</td>\n",
              "      <td>1</td>\n",
              "      <td>Thursday</td>\n",
              "      <td>13</td>\n",
              "      <td>0</td>\n",
              "      <td>0</td>\n",
              "      <td>Night</td>\n",
              "    </tr>\n",
              "    <tr>\n",
              "      <th>2</th>\n",
              "      <td>6</td>\n",
              "      <td>6</td>\n",
              "      <td>CHS_TT11</td>\n",
              "      <td>2021-04-01 00:00:04</td>\n",
              "      <td>6.2</td>\n",
              "      <td>6.2</td>\n",
              "      <td>2021</td>\n",
              "      <td>4</td>\n",
              "      <td>1</td>\n",
              "      <td>Thursday</td>\n",
              "      <td>13</td>\n",
              "      <td>0</td>\n",
              "      <td>0</td>\n",
              "      <td>Night</td>\n",
              "    </tr>\n",
              "    <tr>\n",
              "      <th>3</th>\n",
              "      <td>9</td>\n",
              "      <td>9</td>\n",
              "      <td>CHS_TT11</td>\n",
              "      <td>2021-04-01 00:00:06</td>\n",
              "      <td>6.2</td>\n",
              "      <td>6.2</td>\n",
              "      <td>2021</td>\n",
              "      <td>4</td>\n",
              "      <td>1</td>\n",
              "      <td>Thursday</td>\n",
              "      <td>13</td>\n",
              "      <td>0</td>\n",
              "      <td>0</td>\n",
              "      <td>Night</td>\n",
              "    </tr>\n",
              "    <tr>\n",
              "      <th>4</th>\n",
              "      <td>12</td>\n",
              "      <td>12</td>\n",
              "      <td>CHS_TT11</td>\n",
              "      <td>2021-04-01 00:00:08</td>\n",
              "      <td>6.2</td>\n",
              "      <td>6.2</td>\n",
              "      <td>2021</td>\n",
              "      <td>4</td>\n",
              "      <td>1</td>\n",
              "      <td>Thursday</td>\n",
              "      <td>13</td>\n",
              "      <td>0</td>\n",
              "      <td>0</td>\n",
              "      <td>Night</td>\n",
              "    </tr>\n",
              "  </tbody>\n",
              "</table>\n",
              "</div>"
            ],
            "text/plain": [
              "   index  Unnamed: 0   machine  ... hour  minute  timing\n",
              "0      0           0  CHS_TT11  ...    0       0   Night\n",
              "1      3           3  CHS_TT11  ...    0       0   Night\n",
              "2      6           6  CHS_TT11  ...    0       0   Night\n",
              "3      9           9  CHS_TT11  ...    0       0   Night\n",
              "4     12          12  CHS_TT11  ...    0       0   Night\n",
              "\n",
              "[5 rows x 14 columns]"
            ]
          },
          "metadata": {
            "tags": []
          },
          "execution_count": 13
        }
      ]
    },
    {
      "cell_type": "code",
      "metadata": {
        "id": "J-OZzmYqn3WL"
      },
      "source": [
        "TT11.to_csv(\"machine_tt11.csv\")"
      ],
      "execution_count": null,
      "outputs": []
    },
    {
      "cell_type": "code",
      "metadata": {
        "colab": {
          "base_uri": "https://localhost:8080/",
          "height": 404
        },
        "id": "ToxGUxEzmI8l",
        "outputId": "787292c0-99a3-4a33-8f0b-df1b68ca1da1"
      },
      "source": [
        "df = pd.read_csv('dealed_11_12_15_2021_0401_2021_0425.csv')\n",
        "time_step = []\n",
        "series = []\n",
        "\n",
        "with open(\"machine_tt11.csv\") as csvfile:\n",
        "    reader = csv.reader(csvfile, delimiter = \",\")\n",
        "    # don't read first line\n",
        "    next(reader)\n",
        "    for row in reader:\n",
        "     series.append(float(row[6]))\n",
        "     time_step.append(int(row[0]))\n",
        "TT11_series = np.array(series)\n",
        "time = np.array(time_step)\n",
        "plt.figure(figsize = (12, 6))\n",
        "plt.ylim((5.0, 8.0))\n",
        "plt.title(\"TT11\")\n",
        "plot_series(time, TT11_series)"
      ],
      "execution_count": null,
      "outputs": [
        {
          "output_type": "display_data",
          "data": {
            "image/png": "[encoded data removed]",
            "text/plain": [
              "<Figure size 864x432 with 1 Axes>"
            ]
          },
          "metadata": {
            "tags": [],
            "needs_background": "light"
          }
        }
      ]
    },
    {
      "cell_type": "markdown",
      "metadata": {
        "id": "nNl8oi7O0hQF"
      },
      "source": [
        "### dataset 350000"
      ]
    },
    {
      "cell_type": "code",
      "metadata": {
        "id": "jDM0Fki9qxcM"
      },
      "source": [
        "TT11_series_350000 = TT11_series[:350000]\n",
        "time_350000 = time[:350000]\n",
        "split_time = 348000\n",
        "time_train = time_350000[:split_time]\n",
        "x_train = TT11_series_350000[:split_time]\n",
        "time_valid = time_350000[split_time:]\n",
        "x_valid = TT11_series_350000[split_time:]\n",
        "\n",
        "window_size = 60\n",
        "batch_size = 32\n",
        "shuffle_buffer_size = 1000"
      ],
      "execution_count": null,
      "outputs": []
    },
    {
      "cell_type": "code",
      "metadata": {
        "colab": {
          "base_uri": "https://localhost:8080/"
        },
        "id": "9AisoEhmqxfG",
        "outputId": "646b9686-af6f-43cb-a832-694ef1a158b9"
      },
      "source": [
        "def windowed_dataset(series, window_size, batch_size, shuffle_buffer):\n",
        "    dataset = tf.data.Dataset.from_tensor_slices(series)\n",
        "    dataset = dataset.window(window_size + 1, shift = 1, drop_remainder = True)\n",
        "    dataset = dataset.flat_map(lambda window: window.batch(window_size + 1))\n",
        "    dataset = dataset.shuffle(shuffle_buffer).map(lambda window: (window[:-1], window[-1]))\n",
        "    dataset = dataset.batch(batch_size).prefetch(1)\n",
        "    return dataset\n",
        "    \n",
        "dataset = windowed_dataset(x_train, window_size, batch_size, shuffle_buffer_size)\n",
        "\n",
        "model = tf.keras.models.Sequential([\n",
        "    tf.keras.layers.Dense(200, input_shape = [window_size], activation = \"relu\"),\n",
        "    tf.keras.layers.Dense(100, activation = 'relu'),\n",
        "    tf.keras.layers.Dense(1)\n",
        "])\n",
        "\n",
        "model.compile(loss = \"mse\", optimizer = tf.keras.optimizers.SGD(lr = 1e-7, momentum = 0.9))\n",
        "model.fit(dataset, epochs = 10, verbose = 2)"
      ],
      "execution_count": null,
      "outputs": [
        {
          "output_type": "stream",
          "text": [
            "/usr/local/lib/python3.7/dist-packages/tensorflow/python/keras/optimizer_v2/optimizer_v2.py:375: UserWarning: The `lr` argument is deprecated, use `learning_rate` instead.\n",
            "  \"The `lr` argument is deprecated, use `learning_rate` instead.\")\n"
          ],
          "name": "stderr"
        },
        {
          "output_type": "stream",
          "text": [
            "Epoch 1/10\n",
            "10874/10874 - 46s - loss: 0.9691\n",
            "Epoch 2/10\n",
            "10874/10874 - 46s - loss: 3.9589e-04\n",
            "Epoch 3/10\n",
            "10874/10874 - 45s - loss: 3.9267e-04\n",
            "Epoch 4/10\n",
            "10874/10874 - 45s - loss: 3.8892e-04\n",
            "Epoch 5/10\n",
            "10874/10874 - 45s - loss: 3.8462e-04\n",
            "Epoch 6/10\n",
            "10874/10874 - 45s - loss: 3.8105e-04\n",
            "Epoch 7/10\n",
            "10874/10874 - 45s - loss: 3.7854e-04\n",
            "Epoch 8/10\n",
            "10874/10874 - 45s - loss: 3.7666e-04\n",
            "Epoch 9/10\n",
            "10874/10874 - 45s - loss: 3.7469e-04\n",
            "Epoch 10/10\n",
            "10874/10874 - 45s - loss: 3.6866e-04\n"
          ],
          "name": "stdout"
        },
        {
          "output_type": "execute_result",
          "data": {
            "text/plain": [
              "<tensorflow.python.keras.callbacks.History at 0x7f612c3ca7d0>"
            ]
          },
          "metadata": {
            "tags": []
          },
          "execution_count": 30
        }
      ]
    },
    {
      "cell_type": "code",
      "metadata": {
        "colab": {
          "base_uri": "https://localhost:8080/"
        },
        "id": "1NcfSOJFndfE",
        "outputId": "acb1ca55-1a46-4487-c220-b8b055dcf82d"
      },
      "source": [
        "len(TT11_series_350000) - window_size"
      ],
      "execution_count": null,
      "outputs": [
        {
          "output_type": "execute_result",
          "data": {
            "text/plain": [
              "349940"
            ]
          },
          "metadata": {
            "tags": []
          },
          "execution_count": 32
        }
      ]
    },
    {
      "cell_type": "code",
      "metadata": {
        "colab": {
          "base_uri": "https://localhost:8080/"
        },
        "id": "GNleTDuLn_Bn",
        "outputId": "554bc601-8e4d-45e6-9c78-20e1b1679d7c"
      },
      "source": [
        "split_time"
      ],
      "execution_count": null,
      "outputs": [
        {
          "output_type": "execute_result",
          "data": {
            "text/plain": [
              "348000"
            ]
          },
          "metadata": {
            "tags": []
          },
          "execution_count": 35
        }
      ]
    },
    {
      "cell_type": "code",
      "metadata": {
        "colab": {
          "base_uri": "https://localhost:8080/"
        },
        "id": "SNqO9MY-nu6c",
        "outputId": "d9f6d1a6-cc4e-4e31-dc1e-1aa86bfc4ad9"
      },
      "source": [
        "time_valid"
      ],
      "execution_count": null,
      "outputs": [
        {
          "output_type": "execute_result",
          "data": {
            "text/plain": [
              "array([348000, 348001, 348002, ..., 349997, 349998, 349999])"
            ]
          },
          "metadata": {
            "tags": []
          },
          "execution_count": 34
        }
      ]
    },
    {
      "cell_type": "code",
      "metadata": {
        "id": "nFZZ-FcWnql4"
      },
      "source": [
        "forecast = []\n",
        "for ti in range(split_time - window_size, len(TT11_series_350000) - window_size):\n",
        "    forecast.append(model.predict(TT11_series_350000[ti:ti + window_size][np.newaxis]))"
      ],
      "execution_count": null,
      "outputs": []
    },
    {
      "cell_type": "code",
      "metadata": {
        "colab": {
          "base_uri": "https://localhost:8080/"
        },
        "id": "1gvhIcbZpoxm",
        "outputId": "95646cbf-58a9-4c3c-eba2-a5811e2885fa"
      },
      "source": [
        "len(forecast)"
      ],
      "execution_count": null,
      "outputs": [
        {
          "output_type": "execute_result",
          "data": {
            "text/plain": [
              "2000"
            ]
          },
          "metadata": {
            "tags": []
          },
          "execution_count": 37
        }
      ]
    },
    {
      "cell_type": "code",
      "metadata": {
        "colab": {
          "base_uri": "https://localhost:8080/",
          "height": 405
        },
        "id": "YAK4iAjS0vPh",
        "outputId": "2824ab1a-9ac8-4946-a495-098352caed05"
      },
      "source": [
        "# forecast = []\n",
        "# for time in range(len(TT11_series_350000) - window_size):\n",
        "#     forecast.append(model.predict(TT11_series_350000[time:time + window_size][np.newaxis]))\n",
        "    \n",
        "# forecast = forecast[split_time - window_size:]\n",
        "results = np.array(forecast)[:, 0, 0]\n",
        "\n",
        "plt.figure(figsize = (10, 6))\n",
        "\n",
        "plot_series(time_valid, x_valid)\n",
        "plot_series(time_valid, results)\n",
        "print(tf.keras.metrics.mean_absolute_error(x_valid, results).numpy())"
      ],
      "execution_count": null,
      "outputs": [
        {
          "output_type": "stream",
          "text": [
            "0.012689961\n"
          ],
          "name": "stdout"
        },
        {
          "output_type": "display_data",
          "data": {
            "image/png": "[encoded data removed]",
            "text/plain": [
              "<Figure size 720x432 with 1 Axes>"
            ]
          },
          "metadata": {
            "tags": [],
            "needs_background": "light"
          }
        }
      ]
    },
    {
      "cell_type": "code",
      "metadata": {
        "colab": {
          "base_uri": "https://localhost:8080/"
        },
        "id": "7FK42KV80vXG",
        "outputId": "3f9150a2-2203-4705-d615-3b81cc3f2ac7"
      },
      "source": [
        "x_valid[:10]"
      ],
      "execution_count": null,
      "outputs": [
        {
          "output_type": "execute_result",
          "data": {
            "text/plain": [
              "array([6.125 , 6.125 , 6.125 , 6.125 , 6.125 , 6.1375, 6.1375, 6.1375,\n",
              "       6.1375, 6.1375])"
            ]
          },
          "metadata": {
            "tags": []
          },
          "execution_count": 42
        }
      ]
    },
    {
      "cell_type": "code",
      "metadata": {
        "id": "TziTWOM00va1",
        "colab": {
          "base_uri": "https://localhost:8080/"
        },
        "outputId": "f76bf734-61ab-436b-9349-7b53ecb3736f"
      },
      "source": [
        "forecast[:10]"
      ],
      "execution_count": null,
      "outputs": [
        {
          "output_type": "execute_result",
          "data": {
            "text/plain": [
              "[array([[6.1436462]], dtype=float32),\n",
              " array([[6.1421227]], dtype=float32),\n",
              " array([[6.140769]], dtype=float32),\n",
              " array([[6.1428256]], dtype=float32),\n",
              " array([[6.1389217]], dtype=float32),\n",
              " array([[6.1373205]], dtype=float32),\n",
              " array([[6.1336527]], dtype=float32),\n",
              " array([[6.131386]], dtype=float32),\n",
              " array([[6.134033]], dtype=float32),\n",
              " array([[6.1290116]], dtype=float32)]"
            ]
          },
          "metadata": {
            "tags": []
          },
          "execution_count": 41
        }
      ]
    },
    {
      "cell_type": "markdown",
      "metadata": {
        "id": "7rNL7g5_roA7"
      },
      "source": [
        "# Try Tensorflow LSTM"
      ]
    },
    {
      "cell_type": "code",
      "metadata": {
        "id": "RXaKcEW1sA8Z"
      },
      "source": [
        "TT11_series_350000 = TT11_series[:350000]\n",
        "time_350000 = time[:350000]\n",
        "split_time = 348000\n",
        "time_train = time_350000[:split_time]\n",
        "x_train = TT11_series_350000[:split_time]\n",
        "time_valid = time_350000[split_time:]\n",
        "x_valid = TT11_series_350000[split_time:]\n",
        "\n",
        "window_size = 60\n",
        "batch_size = 32\n",
        "shuffle_buffer_size = 1000"
      ],
      "execution_count": null,
      "outputs": []
    },
    {
      "cell_type": "code",
      "metadata": {
        "id": "7KwvBn9JrmU-"
      },
      "source": [
        "def windowed_dataset(series, window_size, batch_size, shuffle_buffer):\n",
        "    series = tf.expand_dims(series, axis = -1)\n",
        "    ds = tf.data.Dataset.from_tensor_slices(series)\n",
        "    ds = ds.window(window_size + 1, shift = 1, drop_remainder = True)\n",
        "    ds = ds.flat_map(lambda w: w.batch(window_size + 1))\n",
        "    ds = ds.shuffle(shuffle_buffer)\n",
        "    ds = ds.map(lambda w: (w[:-1], w[1:]))\n",
        "    return ds.batch(batch_size).prefetch(1)\n",
        "\n",
        "# need special input setting, because we using CNN layer first\n",
        "def model_forecast(model, series, window_size):\n",
        "    ds = tf.data.Dataset.from_tensor_slices(series)\n",
        "    ds = ds.window(window_size, shift = 1, drop_remainder = True)\n",
        "    ds = ds.flat_map(lambda w: w.batch(window_size))\n",
        "    ds = ds.batch(32).prefetch(1)\n",
        "    forecast = model.predict(ds)\n",
        "    return forecast\n"
      ],
      "execution_count": null,
      "outputs": []
    },
    {
      "cell_type": "code",
      "metadata": {
        "colab": {
          "base_uri": "https://localhost:8080/"
        },
        "id": "zVOWUjmF5bDP",
        "outputId": "d52653d5-ae3d-40e4-9f18-75f010557243"
      },
      "source": [
        "model = tf.keras.models.Sequential([\n",
        "    tf.keras.layers.Conv1D(filters = 32, kernel_size = 5,\n",
        "                        strides = 1, padding = \"causal\",\n",
        "                        activation = \"relu\",\n",
        "                        input_shape = [None, 1]),\n",
        "    tf.keras.layers.LSTM(64, return_sequences = True),\n",
        "    tf.keras.layers.LSTM(64, return_sequences = True),\n",
        "    tf.keras.layers.Dense(30, activation = 'relu'),\n",
        "    tf.keras.layers.Dense(10, activation = 'relu'),\n",
        "    tf.keras.layers.Dense(1),\n",
        "    tf.keras.layers.Lambda(lambda x: x * 400)\n",
        "])\n",
        "model.summary()"
      ],
      "execution_count": null,
      "outputs": [
        {
          "output_type": "stream",
          "text": [
            "Model: \"sequential\"\n",
            "_________________________________________________________________\n",
            "Layer (type)                 Output Shape              Param #   \n",
            "=================================================================\n",
            "conv1d (Conv1D)              (None, None, 32)          192       \n",
            "_________________________________________________________________\n",
            "lstm (LSTM)                  (None, None, 64)          24832     \n",
            "_________________________________________________________________\n",
            "lstm_1 (LSTM)                (None, None, 64)          33024     \n",
            "_________________________________________________________________\n",
            "dense (Dense)                (None, None, 30)          1950      \n",
            "_________________________________________________________________\n",
            "dense_1 (Dense)              (None, None, 10)          310       \n",
            "_________________________________________________________________\n",
            "dense_2 (Dense)              (None, None, 1)           11        \n",
            "_________________________________________________________________\n",
            "lambda (Lambda)              (None, None, 1)           0         \n",
            "=================================================================\n",
            "Total params: 60,319\n",
            "Trainable params: 60,319\n",
            "Non-trainable params: 0\n",
            "_________________________________________________________________\n"
          ],
          "name": "stdout"
        }
      ]
    },
    {
      "cell_type": "code",
      "metadata": {
        "colab": {
          "base_uri": "https://localhost:8080/"
        },
        "id": "K7djtUvAr2RC",
        "outputId": "afde0689-49d2-4965-8b82-7addbc26dfa4"
      },
      "source": [
        "window_size = 64\n",
        "batch_size = 256\n",
        "train_set = windowed_dataset(x_train, window_size, batch_size, shuffle_buffer_size)\n",
        "\n",
        "model = tf.keras.models.Sequential([\n",
        "    tf.keras.layers.Conv1D(filters = 32, kernel_size = 5,\n",
        "                        strides = 1, padding = \"causal\",\n",
        "                        activation = \"relu\",\n",
        "                        input_shape = [None, 1]),\n",
        "    tf.keras.layers.LSTM(64, return_sequences = True),\n",
        "    tf.keras.layers.LSTM(64, return_sequences = True),\n",
        "    tf.keras.layers.Dense(30, activation = 'relu'),\n",
        "    tf.keras.layers.Dense(10, activation = 'relu'),\n",
        "    tf.keras.layers.Dense(1),\n",
        "    tf.keras.layers.Lambda(lambda x: x * 400)\n",
        "])\n",
        "\n",
        "optimizer = tf.keras.optimizers.SGD(lr=1e-5, momentum=0.9)\n",
        "model.compile(loss=tf.keras.losses.Huber(),\n",
        "              optimizer=optimizer,\n",
        "              metrics=[\"mae\"])\n",
        "history = model.fit(train_set, epochs=10)"
      ],
      "execution_count": null,
      "outputs": [
        {
          "output_type": "stream",
          "text": [
            "/usr/local/lib/python3.7/dist-packages/tensorflow/python/keras/optimizer_v2/optimizer_v2.py:375: UserWarning: The `lr` argument is deprecated, use `learning_rate` instead.\n",
            "  \"The `lr` argument is deprecated, use `learning_rate` instead.\")\n"
          ],
          "name": "stderr"
        },
        {
          "output_type": "stream",
          "text": [
            "Epoch 1/10\n",
            "1360/1360 [==============================] - 85s 39ms/step - loss: 0.4257 - mae: 0.5879\n",
            "Epoch 2/10\n",
            "1360/1360 [==============================] - 52s 38ms/step - loss: 0.0080 - mae: 0.0945\n",
            "Epoch 3/10\n",
            "1360/1360 [==============================] - 53s 39ms/step - loss: 0.0033 - mae: 0.0609\n",
            "Epoch 4/10\n",
            "1360/1360 [==============================] - 53s 39ms/step - loss: 0.0020 - mae: 0.0460\n",
            "Epoch 5/10\n",
            "1360/1360 [==============================] - 52s 38ms/step - loss: 0.0016 - mae: 0.0373\n",
            "Epoch 6/10\n",
            "1360/1360 [==============================] - 52s 38ms/step - loss: 0.0014 - mae: 0.0328\n",
            "Epoch 7/10\n",
            "1360/1360 [==============================] - 52s 38ms/step - loss: 0.0014 - mae: 0.0305\n",
            "Epoch 8/10\n",
            "1360/1360 [==============================] - 53s 39ms/step - loss: 0.0014 - mae: 0.0293\n",
            "Epoch 9/10\n",
            "1360/1360 [==============================] - 52s 38ms/step - loss: 0.0014 - mae: 0.0287\n",
            "Epoch 10/10\n",
            "1360/1360 [==============================] - 52s 38ms/step - loss: 0.0013 - mae: 0.0285\n"
          ],
          "name": "stdout"
        }
      ]
    },
    {
      "cell_type": "code",
      "metadata": {
        "id": "oZLAbvzCwJYY"
      },
      "source": [
        "rnn_forecast = model_forecast(model, TT11_series_350000[...,np.newaxis], window_size)\n",
        "rnn_forecast = rnn_forecast[split_time - window_size:-1, -1, 0]"
      ],
      "execution_count": null,
      "outputs": []
    },
    {
      "cell_type": "code",
      "metadata": {
        "colab": {
          "base_uri": "https://localhost:8080/",
          "height": 405
        },
        "id": "6xOuBLztr2Ts",
        "outputId": "c38b798a-2874-41b5-87ce-c39bc52b7e33"
      },
      "source": [
        "# rnn_forecast = model_forecast(model, TT11_series_350000[...,np.newaxis], window_size)\n",
        "# rnn_forecast = rnn_forecast[split_time - window_size:-1, -1, 0]\n",
        "\n",
        "plt.figure(figsize = (10, 6))\n",
        "plot_series(time_valid, x_valid)\n",
        "plot_series(time_valid, rnn_forecast)\n",
        "print(tf.keras.metrics.mean_absolute_error(x_valid, rnn_forecast).numpy())"
      ],
      "execution_count": null,
      "outputs": [
        {
          "output_type": "stream",
          "text": [
            "0.0077311154\n"
          ],
          "name": "stdout"
        },
        {
          "output_type": "display_data",
          "data": {
            "image/png": "[encoded data removed]",
            "text/plain": [
              "<Figure size 720x432 with 1 Axes>"
            ]
          },
          "metadata": {
            "tags": [],
            "needs_background": "light"
          }
        }
      ]
    },
    {
      "cell_type": "code",
      "metadata": {
        "colab": {
          "base_uri": "https://localhost:8080/"
        },
        "id": "EcHXsadMw5s8",
        "outputId": "3d5237a8-270d-431b-d651-77abf6717ebf"
      },
      "source": [
        "window_size = 64\n",
        "batch_size = 256\n",
        "train_set = windowed_dataset(x_train, window_size, batch_size, shuffle_buffer_size)\n",
        "\n",
        "model = tf.keras.models.Sequential([\n",
        "    tf.keras.layers.Conv1D(filters = 32, kernel_size = 5,\n",
        "                        strides = 1, padding = \"causal\",\n",
        "                        activation = \"relu\",\n",
        "                        input_shape = [None, 1]),\n",
        "    tf.keras.layers.LSTM(64, return_sequences = True),\n",
        "    tf.keras.layers.LSTM(64, return_sequences = True),\n",
        "    tf.keras.layers.Dense(30, activation = 'relu'),\n",
        "    tf.keras.layers.Dense(10, activation = 'relu'),\n",
        "    tf.keras.layers.Dense(1),\n",
        "    tf.keras.layers.Lambda(lambda x: x * 400)\n",
        "])\n",
        "lr_schedule = tf.keras.callbacks.LearningRateScheduler(\n",
        "    lambda epoch: 1e-8 * 10**(epoch / 20))\n",
        "\n",
        "optimizer = tf.keras.optimizers.SGD(learning_rate=1e-8, momentum=0.9)\n",
        "model.compile(loss=tf.keras.losses.Huber(),\n",
        "              optimizer=optimizer,\n",
        "              metrics=[\"mae\"])\n",
        "history = model.fit(train_set, epochs=100, callbacks=[lr_schedule])"
      ],
      "execution_count": null,
      "outputs": [
        {
          "output_type": "stream",
          "text": [
            "Epoch 1/100\n",
            "1360/1360 [==============================] - 53s 37ms/step - loss: 0.6724 - mae: 0.9711\n",
            "Epoch 2/100\n",
            "1360/1360 [==============================] - 51s 37ms/step - loss: 0.2420 - mae: 0.5130\n",
            "Epoch 3/100\n",
            "1360/1360 [==============================] - 51s 37ms/step - loss: 0.1484 - mae: 0.4112\n",
            "Epoch 4/100\n",
            "1360/1360 [==============================] - 51s 37ms/step - loss: 0.0916 - mae: 0.3388\n",
            "Epoch 5/100\n",
            "1360/1360 [==============================] - 51s 37ms/step - loss: 0.0710 - mae: 0.3011\n",
            "Epoch 6/100\n",
            "1360/1360 [==============================] - 50s 37ms/step - loss: 0.0606 - mae: 0.2774\n",
            "Epoch 7/100\n",
            "1360/1360 [==============================] - 51s 37ms/step - loss: 0.0524 - mae: 0.2570\n",
            "Epoch 8/100\n",
            "1360/1360 [==============================] - 52s 38ms/step - loss: 0.0451 - mae: 0.2372\n",
            "Epoch 9/100\n",
            "1360/1360 [==============================] - 51s 37ms/step - loss: 0.0385 - mae: 0.2182\n",
            "Epoch 10/100\n",
            "1360/1360 [==============================] - 51s 37ms/step - loss: 0.0314 - mae: 0.1978\n",
            "Epoch 11/100\n",
            "1360/1360 [==============================] - 50s 37ms/step - loss: 0.0252 - mae: 0.1780\n",
            "Epoch 12/100\n",
            "1360/1360 [==============================] - 50s 37ms/step - loss: 0.0203 - mae: 0.1598\n",
            "Epoch 13/100\n",
            "1360/1360 [==============================] - 51s 37ms/step - loss: 0.0163 - mae: 0.1434\n",
            "Epoch 14/100\n",
            "1360/1360 [==============================] - 50s 37ms/step - loss: 0.0131 - mae: 0.1289\n",
            "Epoch 15/100\n",
            "1360/1360 [==============================] - 53s 39ms/step - loss: 0.0106 - mae: 0.1163\n",
            "Epoch 16/100\n",
            "1360/1360 [==============================] - 51s 37ms/step - loss: 0.0087 - mae: 0.1053\n",
            "Epoch 17/100\n",
            "1360/1360 [==============================] - 51s 37ms/step - loss: 0.0073 - mae: 0.0962\n",
            "Epoch 18/100\n",
            "1360/1360 [==============================] - 51s 37ms/step - loss: 0.0062 - mae: 0.0887\n",
            "Epoch 19/100\n",
            "1360/1360 [==============================] - 51s 37ms/step - loss: 0.0055 - mae: 0.0825\n",
            "Epoch 20/100\n",
            "1360/1360 [==============================] - 51s 37ms/step - loss: 0.0049 - mae: 0.0773\n",
            "Epoch 21/100\n",
            "1360/1360 [==============================] - 51s 37ms/step - loss: 0.0043 - mae: 0.0724\n",
            "Epoch 22/100\n",
            "1360/1360 [==============================] - 51s 37ms/step - loss: 0.0038 - mae: 0.0675\n",
            "Epoch 23/100\n",
            "1360/1360 [==============================] - 50s 37ms/step - loss: 0.0033 - mae: 0.0629\n",
            "Epoch 24/100\n",
            "1360/1360 [==============================] - 51s 37ms/step - loss: 0.0029 - mae: 0.0580\n",
            "Epoch 25/100\n",
            "1360/1360 [==============================] - 50s 37ms/step - loss: 0.0024 - mae: 0.0526\n",
            "Epoch 26/100\n",
            "1360/1360 [==============================] - 51s 38ms/step - loss: 0.0021 - mae: 0.0474\n",
            "Epoch 27/100\n",
            "1360/1360 [==============================] - 51s 37ms/step - loss: 0.0017 - mae: 0.0423\n",
            "Epoch 28/100\n",
            "1360/1360 [==============================] - 51s 37ms/step - loss: 0.0014 - mae: 0.0370\n",
            "Epoch 29/100\n",
            "1360/1360 [==============================] - 51s 37ms/step - loss: 0.0011 - mae: 0.0310\n",
            "Epoch 30/100\n",
            "1360/1360 [==============================] - 51s 37ms/step - loss: 8.4778e-04 - mae: 0.0253\n",
            "Epoch 31/100\n",
            "1360/1360 [==============================] - 51s 37ms/step - loss: 7.5332e-04 - mae: 0.0227\n",
            "Epoch 32/100\n",
            "1360/1360 [==============================] - 53s 39ms/step - loss: 7.0974e-04 - mae: 0.0216\n",
            "Epoch 33/100\n",
            "1360/1360 [==============================] - 51s 38ms/step - loss: 6.8565e-04 - mae: 0.0211\n",
            "Epoch 34/100\n",
            "1360/1360 [==============================] - 51s 37ms/step - loss: 6.6783e-04 - mae: 0.0209\n",
            "Epoch 35/100\n",
            "1360/1360 [==============================] - 51s 38ms/step - loss: 6.5334e-04 - mae: 0.0206\n",
            "Epoch 36/100\n",
            "1360/1360 [==============================] - 51s 37ms/step - loss: 6.4257e-04 - mae: 0.0205\n",
            "Epoch 37/100\n",
            "1360/1360 [==============================] - 51s 38ms/step - loss: 6.3431e-04 - mae: 0.0205\n",
            "Epoch 38/100\n",
            "1360/1360 [==============================] - 51s 38ms/step - loss: 6.2660e-04 - mae: 0.0204\n",
            "Epoch 39/100\n",
            "1360/1360 [==============================] - 51s 37ms/step - loss: 6.2033e-04 - mae: 0.0203\n",
            "Epoch 40/100\n",
            "1360/1360 [==============================] - 51s 37ms/step - loss: 6.1296e-04 - mae: 0.0203\n",
            "Epoch 41/100\n",
            "1360/1360 [==============================] - 51s 38ms/step - loss: 6.0472e-04 - mae: 0.0202\n",
            "Epoch 42/100\n",
            "1360/1360 [==============================] - 51s 37ms/step - loss: 5.9874e-04 - mae: 0.0202\n",
            "Epoch 43/100\n",
            "1360/1360 [==============================] - 51s 38ms/step - loss: 5.9156e-04 - mae: 0.0201\n",
            "Epoch 44/100\n",
            "1360/1360 [==============================] - 52s 38ms/step - loss: 5.8534e-04 - mae: 0.0201\n",
            "Epoch 45/100\n",
            "1360/1360 [==============================] - 52s 38ms/step - loss: 5.9035e-04 - mae: 0.0206\n",
            "Epoch 46/100\n",
            "1360/1360 [==============================] - 51s 38ms/step - loss: 0.0148 - mae: 0.0638\n",
            "Epoch 47/100\n",
            "1360/1360 [==============================] - 51s 38ms/step - loss: 0.0516 - mae: 0.1498\n",
            "Epoch 48/100\n",
            "1360/1360 [==============================] - 51s 37ms/step - loss: 0.1278 - mae: 0.2047\n",
            "Epoch 49/100\n",
            "1360/1360 [==============================] - 51s 38ms/step - loss: 1.0135 - mae: 1.3412\n",
            "Epoch 50/100\n",
            "1360/1360 [==============================] - 51s 38ms/step - loss: 0.0024 - mae: 0.0505\n",
            "Epoch 51/100\n",
            "1360/1360 [==============================] - 51s 38ms/step - loss: 0.0011 - mae: 0.0308\n",
            "Epoch 52/100\n",
            "1360/1360 [==============================] - 51s 37ms/step - loss: 8.3143e-04 - mae: 0.0250\n",
            "Epoch 53/100\n",
            "1360/1360 [==============================] - 51s 38ms/step - loss: 7.0409e-04 - mae: 0.0212\n",
            "Epoch 54/100\n",
            "1360/1360 [==============================] - 51s 37ms/step - loss: 6.5208e-04 - mae: 0.0197\n",
            "Epoch 55/100\n",
            "1360/1360 [==============================] - 51s 37ms/step - loss: 0.4631 - mae: 0.5932\n",
            "Epoch 56/100\n",
            "1360/1360 [==============================] - 51s 37ms/step - loss: 0.0062 - mae: 0.0845\n",
            "Epoch 57/100\n",
            "1360/1360 [==============================] - 51s 37ms/step - loss: 0.0064 - mae: 0.0856\n",
            "Epoch 58/100\n",
            "1360/1360 [==============================] - 51s 37ms/step - loss: 0.0060 - mae: 0.0834\n",
            "Epoch 59/100\n",
            "1360/1360 [==============================] - 51s 38ms/step - loss: 0.0057 - mae: 0.0815\n",
            "Epoch 60/100\n",
            "1360/1360 [==============================] - 51s 37ms/step - loss: 0.0057 - mae: 0.0814\n",
            "Epoch 61/100\n",
            "1360/1360 [==============================] - 51s 38ms/step - loss: 0.0056 - mae: 0.0800\n",
            "Epoch 62/100\n",
            "1360/1360 [==============================] - 51s 38ms/step - loss: 0.0055 - mae: 0.0794\n",
            "Epoch 63/100\n",
            "1360/1360 [==============================] - 52s 38ms/step - loss: 0.0056 - mae: 0.0808\n",
            "Epoch 64/100\n",
            "1360/1360 [==============================] - 51s 38ms/step - loss: 0.0057 - mae: 0.0815\n",
            "Epoch 65/100\n",
            "1360/1360 [==============================] - 51s 38ms/step - loss: 0.0059 - mae: 0.0835\n",
            "Epoch 66/100\n",
            "1360/1360 [==============================] - 51s 38ms/step - loss: 0.0062 - mae: 0.0856\n",
            "Epoch 67/100\n",
            "1360/1360 [==============================] - 51s 38ms/step - loss: 0.0068 - mae: 0.0903\n",
            "Epoch 68/100\n",
            "1360/1360 [==============================] - 51s 38ms/step - loss: 0.0101 - mae: 0.1117\n",
            "Epoch 69/100\n",
            "1360/1360 [==============================] - 51s 38ms/step - loss: 3.1719 - mae: 3.6646\n",
            "Epoch 70/100\n",
            "1360/1360 [==============================] - 52s 38ms/step - loss: 3.8161 - mae: 4.3161\n",
            "Epoch 71/100\n",
            "1360/1360 [==============================] - 51s 37ms/step - loss: 4.3026 - mae: 4.7978\n",
            "Epoch 72/100\n",
            "1360/1360 [==============================] - 51s 37ms/step - loss: 7.9489 - mae: 8.4470\n",
            "Epoch 73/100\n",
            "1360/1360 [==============================] - 51s 37ms/step - loss: 9.3985 - mae: 9.8985\n",
            "Epoch 74/100\n",
            "1360/1360 [==============================] - 51s 37ms/step - loss: 10.6064 - mae: 11.1064\n",
            "Epoch 75/100\n",
            "1360/1360 [==============================] - 51s 38ms/step - loss: 11.9617 - mae: 12.4617\n",
            "Epoch 76/100\n",
            "1360/1360 [==============================] - 51s 37ms/step - loss: 13.4825 - mae: 13.9825\n",
            "Epoch 77/100\n",
            "1360/1360 [==============================] - 51s 37ms/step - loss: 15.1887 - mae: 15.6887\n",
            "Epoch 78/100\n",
            "1360/1360 [==============================] - 51s 37ms/step - loss: 17.1033 - mae: 17.6033\n",
            "Epoch 79/100\n",
            "1360/1360 [==============================] - 51s 37ms/step - loss: 19.2510 - mae: 19.7510\n",
            "Epoch 80/100\n",
            "1360/1360 [==============================] - 51s 37ms/step - loss: 21.6612 - mae: 22.1612\n",
            "Epoch 81/100\n",
            "1360/1360 [==============================] - 51s 37ms/step - loss: 24.3652 - mae: 24.8652\n",
            "Epoch 82/100\n",
            "1360/1360 [==============================] - 51s 37ms/step - loss: 27.3994 - mae: 27.8994\n",
            "Epoch 83/100\n",
            "1360/1360 [==============================] - 51s 37ms/step - loss: 30.8036 - mae: 31.3036\n",
            "Epoch 84/100\n",
            "1360/1360 [==============================] - 51s 38ms/step - loss: 34.6234 - mae: 35.1234\n",
            "Epoch 85/100\n",
            "1360/1360 [==============================] - 51s 37ms/step - loss: 38.9092 - mae: 39.4092\n",
            "Epoch 86/100\n",
            "1360/1360 [==============================] - 51s 38ms/step - loss: 43.7179 - mae: 44.2179\n",
            "Epoch 87/100\n",
            "1360/1360 [==============================] - 51s 38ms/step - loss: 49.1133 - mae: 49.6133\n",
            "Epoch 88/100\n",
            "1360/1360 [==============================] - 51s 38ms/step - loss: 55.1669 - mae: 55.6670\n",
            "Epoch 89/100\n",
            "1360/1360 [==============================] - 52s 38ms/step - loss: 61.9596 - mae: 62.4596\n",
            "Epoch 90/100\n",
            "1360/1360 [==============================] - 52s 38ms/step - loss: 69.5809 - mae: 70.0809\n",
            "Epoch 91/100\n",
            "1360/1360 [==============================] - 51s 38ms/step - loss: 78.1323 - mae: 78.6323\n",
            "Epoch 92/100\n",
            "1360/1360 [==============================] - 52s 38ms/step - loss: 87.7267 - mae: 88.2267\n",
            "Epoch 93/100\n",
            "1360/1360 [==============================] - 52s 38ms/step - loss: 98.4925 - mae: 98.9925\n",
            "Epoch 94/100\n",
            "1360/1360 [==============================] - 52s 38ms/step - loss: 110.5711 - mae: 111.0711\n",
            "Epoch 95/100\n",
            "1360/1360 [==============================] - 52s 38ms/step - loss: 124.1241 - mae: 124.6241\n",
            "Epoch 96/100\n",
            "1360/1360 [==============================] - 52s 38ms/step - loss: 139.3306 - mae: 139.8306\n",
            "Epoch 97/100\n",
            "1360/1360 [==============================] - 52s 38ms/step - loss: 156.3924 - mae: 156.8924\n",
            "Epoch 98/100\n",
            "1360/1360 [==============================] - 52s 38ms/step - loss: 175.5363 - mae: 176.0363\n",
            "Epoch 99/100\n",
            "1360/1360 [==============================] - 51s 38ms/step - loss: 197.0160 - mae: 197.5160\n",
            "Epoch 100/100\n",
            "1360/1360 [==============================] - 51s 38ms/step - loss: 221.1167 - mae: 221.6167\n"
          ],
          "name": "stdout"
        }
      ]
    },
    {
      "cell_type": "code",
      "metadata": {
        "colab": {
          "base_uri": "https://localhost:8080/",
          "height": 290
        },
        "id": "eGJBtEwew5y4",
        "outputId": "ff3da058-1ef5-48b7-f098-0df5ba9c7325"
      },
      "source": [
        "plt.semilogx(history.history[\"lr\"], history.history[\"loss\"])\n",
        "plt.ylim([0, 0.1])\n",
        "plt.axis([1e-8, 1e-4, 0, 60])\n",
        "plt.ylim([0, 0.02])"
      ],
      "execution_count": null,
      "outputs": [
        {
          "output_type": "execute_result",
          "data": {
            "text/plain": [
              "(0.0, 0.02)"
            ]
          },
          "metadata": {
            "tags": []
          },
          "execution_count": 60
        },
        {
          "output_type": "display_data",
          "data": {
            "image/png": "[encoded data removed]",
            "text/plain": [
              "<Figure size 432x288 with 1 Axes>"
            ]
          },
          "metadata": {
            "tags": [],
            "needs_background": "light"
          }
        }
      ]
    },
    {
      "cell_type": "markdown",
      "metadata": {
        "id": "SUsXCM67S9zQ"
      },
      "source": [
        "pick learning rate 1e-6"
      ]
    },
    {
      "cell_type": "code",
      "metadata": {
        "colab": {
          "base_uri": "https://localhost:8080/"
        },
        "id": "2QHrg-9Uw58E",
        "outputId": "cdb8dfb1-6f8b-4970-d77c-e53f9708c0de"
      },
      "source": [
        "window_size = 64\n",
        "batch_size = 256\n",
        "train_set = windowed_dataset(x_train, window_size, batch_size, shuffle_buffer_size)\n",
        "\n",
        "model = tf.keras.models.Sequential([\n",
        "    tf.keras.layers.Conv1D(filters = 32, kernel_size = 5,\n",
        "                        strides = 1, padding = \"causal\",\n",
        "                        activation = \"relu\",\n",
        "                        input_shape = [None, 1]),\n",
        "    tf.keras.layers.LSTM(64, return_sequences = True),\n",
        "    tf.keras.layers.LSTM(64, return_sequences = True),\n",
        "    tf.keras.layers.Dense(30, activation = 'relu'),\n",
        "    tf.keras.layers.Dense(10, activation = 'relu'),\n",
        "    tf.keras.layers.Dense(1),\n",
        "    tf.keras.layers.Lambda(lambda x: x * 400)\n",
        "])\n",
        "\n",
        "optimizer = tf.keras.optimizers.SGD(learning_rate=1e-6, momentum=0.9)\n",
        "model.compile(loss=tf.keras.losses.Huber(),\n",
        "              optimizer=optimizer,\n",
        "              metrics=[\"mae\"])\n",
        "history = model.fit(train_set, epochs=30)"
      ],
      "execution_count": null,
      "outputs": [
        {
          "output_type": "stream",
          "text": [
            "Epoch 1/30\n",
            "1360/1360 [==============================] - 54s 38ms/step - loss: 0.2107 - mae: 0.3446\n",
            "Epoch 2/30\n",
            "1360/1360 [==============================] - 52s 38ms/step - loss: 0.0085 - mae: 0.0821\n",
            "Epoch 3/30\n",
            "1360/1360 [==============================] - 52s 38ms/step - loss: 0.0051 - mae: 0.0653\n",
            "Epoch 4/30\n",
            "1360/1360 [==============================] - 52s 38ms/step - loss: 0.0033 - mae: 0.0545\n",
            "Epoch 5/30\n",
            "1360/1360 [==============================] - 52s 38ms/step - loss: 0.0019 - mae: 0.0413\n",
            "Epoch 6/30\n",
            "1360/1360 [==============================] - 53s 39ms/step - loss: 0.0014 - mae: 0.0361\n",
            "Epoch 7/30\n",
            "1360/1360 [==============================] - 52s 38ms/step - loss: 0.0013 - mae: 0.0342\n",
            "Epoch 8/30\n",
            "1360/1360 [==============================] - 52s 38ms/step - loss: 0.0012 - mae: 0.0331\n",
            "Epoch 9/30\n",
            "1360/1360 [==============================] - 52s 38ms/step - loss: 0.0011 - mae: 0.0322\n",
            "Epoch 10/30\n",
            "1360/1360 [==============================] - 51s 38ms/step - loss: 0.0011 - mae: 0.0315\n",
            "Epoch 11/30\n",
            "1360/1360 [==============================] - 52s 38ms/step - loss: 0.0010 - mae: 0.0309\n",
            "Epoch 12/30\n",
            "1360/1360 [==============================] - 52s 38ms/step - loss: 9.6032e-04 - mae: 0.0304\n",
            "Epoch 13/30\n",
            "1360/1360 [==============================] - 52s 38ms/step - loss: 9.3559e-04 - mae: 0.0302\n",
            "Epoch 14/30\n",
            "1360/1360 [==============================] - 52s 38ms/step - loss: 8.9075e-04 - mae: 0.0295\n",
            "Epoch 15/30\n",
            "1360/1360 [==============================] - 51s 38ms/step - loss: 8.6676e-04 - mae: 0.0292\n",
            "Epoch 16/30\n",
            "1360/1360 [==============================] - 51s 38ms/step - loss: 8.4316e-04 - mae: 0.0290\n",
            "Epoch 17/30\n",
            "1360/1360 [==============================] - 52s 38ms/step - loss: 8.2124e-04 - mae: 0.0286\n",
            "Epoch 18/30\n",
            "1360/1360 [==============================] - 52s 38ms/step - loss: 8.0093e-04 - mae: 0.0284\n",
            "Epoch 19/30\n",
            "1360/1360 [==============================] - 52s 38ms/step - loss: 7.8599e-04 - mae: 0.0282\n",
            "Epoch 20/30\n",
            "1360/1360 [==============================] - 51s 38ms/step - loss: 7.6827e-04 - mae: 0.0279\n",
            "Epoch 21/30\n",
            "1360/1360 [==============================] - 52s 38ms/step - loss: 7.5646e-04 - mae: 0.0278\n",
            "Epoch 22/30\n",
            "1360/1360 [==============================] - 53s 39ms/step - loss: 7.4643e-04 - mae: 0.0277\n",
            "Epoch 23/30\n",
            "1360/1360 [==============================] - 52s 38ms/step - loss: 7.3498e-04 - mae: 0.0275\n",
            "Epoch 24/30\n",
            "1360/1360 [==============================] - 52s 38ms/step - loss: 7.2597e-04 - mae: 0.0274\n",
            "Epoch 25/30\n",
            "1360/1360 [==============================] - 52s 38ms/step - loss: 7.1977e-04 - mae: 0.0273\n",
            "Epoch 26/30\n",
            "1360/1360 [==============================] - 51s 38ms/step - loss: 7.0684e-04 - mae: 0.0271\n",
            "Epoch 27/30\n",
            "1360/1360 [==============================] - 51s 38ms/step - loss: 7.0142e-04 - mae: 0.0270\n",
            "Epoch 28/30\n",
            "1360/1360 [==============================] - 51s 38ms/step - loss: 6.9228e-04 - mae: 0.0268\n",
            "Epoch 29/30\n",
            "1360/1360 [==============================] - 51s 37ms/step - loss: 6.8236e-04 - mae: 0.0267\n",
            "Epoch 30/30\n",
            "1360/1360 [==============================] - 51s 38ms/step - loss: 6.7826e-04 - mae: 0.0266\n"
          ],
          "name": "stdout"
        }
      ]
    },
    {
      "cell_type": "code",
      "metadata": {
        "id": "08Ig_MKudeRj"
      },
      "source": [
        "rnn_forecast = model_forecast(model, TT11_series_350000[...,np.newaxis], window_size)\n",
        "rnn_forecast = rnn_forecast[split_time - window_size:-1, -1, 0]"
      ],
      "execution_count": null,
      "outputs": []
    },
    {
      "cell_type": "code",
      "metadata": {
        "colab": {
          "base_uri": "https://localhost:8080/",
          "height": 405
        },
        "id": "5Mx2t4KGdeZw",
        "outputId": "540ce995-d992-41b5-d95f-4d6783b7365d"
      },
      "source": [
        "plt.figure(figsize = (10, 6))\n",
        "plot_series(time_valid, x_valid)\n",
        "plot_series(time_valid, rnn_forecast)\n",
        "print(tf.keras.metrics.mean_absolute_error(x_valid, rnn_forecast).numpy())"
      ],
      "execution_count": null,
      "outputs": [
        {
          "output_type": "stream",
          "text": [
            "0.017690342\n"
          ],
          "name": "stdout"
        },
        {
          "output_type": "display_data",
          "data": {
            "image/png": "[encoded data removed]",
            "text/plain": [
              "<Figure size 720x432 with 1 Axes>"
            ]
          },
          "metadata": {
            "tags": [],
            "needs_background": "light"
          }
        }
      ]
    },
    {
      "cell_type": "markdown",
      "metadata": {
        "id": "rgMi63R2SY2C"
      },
      "source": [
        "## predict next 10 seconds (5 x 2seconds)"
      ]
    },
    {
      "cell_type": "code",
      "metadata": {
        "id": "7wSFRGmESlUK"
      },
      "source": [
        "TT11_series_350000 = TT11_series[:350000]\n",
        "time_350000 = time[:350000]\n",
        "split_time = 348000\n",
        "time_train = time_350000[:split_time]\n",
        "x_train = TT11_series_350000[:split_time]\n",
        "time_valid = time_350000[split_time:]\n",
        "x_valid = TT11_series_350000[split_time:]\n",
        "\n",
        "window_size = 60\n",
        "batch_size = 32\n",
        "shuffle_buffer_size = 1000"
      ],
      "execution_count": null,
      "outputs": []
    },
    {
      "cell_type": "code",
      "metadata": {
        "id": "iddToHghSlXL"
      },
      "source": [
        "def windowed_dataset(series, window_size, batch_size, shuffle_buffer):\n",
        "    series = tf.expand_dims(series, axis = -1)\n",
        "    ds = tf.data.Dataset.from_tensor_slices(series)\n",
        "    ds = ds.window(window_size + 1, shift = 1, drop_remainder = True)\n",
        "    ds = ds.flat_map(lambda w: w.batch(window_size + 1))\n",
        "    ds = ds.shuffle(shuffle_buffer)\n",
        "    ds = ds.map(lambda w: (w[:-5], w[5:]))\n",
        "    return ds.batch(batch_size).prefetch(1)\n",
        "\n",
        "# need special input setting, because we using CNN layer first\n",
        "def model_forecast(model, series, window_size):\n",
        "    ds = tf.data.Dataset.from_tensor_slices(series)\n",
        "    ds = ds.window(window_size, shift = 1, drop_remainder = True)\n",
        "    ds = ds.flat_map(lambda w: w.batch(window_size))\n",
        "    ds = ds.batch(32).prefetch(1)\n",
        "    forecast = model.predict(ds)\n",
        "    return forecast"
      ],
      "execution_count": null,
      "outputs": []
    },
    {
      "cell_type": "code",
      "metadata": {
        "colab": {
          "base_uri": "https://localhost:8080/"
        },
        "id": "uZ7-eFLp7y_m",
        "outputId": "04f8afac-1511-4f4b-d486-70e7aa24b81f"
      },
      "source": [
        "model = tf.keras.models.Sequential([\n",
        "    tf.keras.layers.Conv1D(filters = 32, kernel_size = 5,\n",
        "                        strides = 1, padding = \"causal\",\n",
        "                        activation = \"relu\",\n",
        "                        input_shape = [None, 1]),\n",
        "    tf.keras.layers.LSTM(64, return_sequences = True),\n",
        "    tf.keras.layers.LSTM(64, return_sequences = True),\n",
        "    tf.keras.layers.Dense(30, activation = 'relu'),\n",
        "    tf.keras.layers.Dense(10, activation = 'relu'),\n",
        "    tf.keras.layers.Dense(5),\n",
        "    tf.keras.layers.Lambda(lambda x: x * 400)\n",
        "])\n",
        "model.summary()"
      ],
      "execution_count": null,
      "outputs": [
        {
          "output_type": "stream",
          "text": [
            "Model: \"sequential_1\"\n",
            "_________________________________________________________________\n",
            "Layer (type)                 Output Shape              Param #   \n",
            "=================================================================\n",
            "conv1d_1 (Conv1D)            (None, None, 32)          192       \n",
            "_________________________________________________________________\n",
            "lstm_2 (LSTM)                (None, None, 64)          24832     \n",
            "_________________________________________________________________\n",
            "lstm_3 (LSTM)                (None, None, 64)          33024     \n",
            "_________________________________________________________________\n",
            "dense_3 (Dense)              (None, None, 30)          1950      \n",
            "_________________________________________________________________\n",
            "dense_4 (Dense)              (None, None, 10)          310       \n",
            "_________________________________________________________________\n",
            "dense_5 (Dense)              (None, None, 5)           55        \n",
            "_________________________________________________________________\n",
            "lambda_1 (Lambda)            (None, None, 5)           0         \n",
            "=================================================================\n",
            "Total params: 60,363\n",
            "Trainable params: 60,363\n",
            "Non-trainable params: 0\n",
            "_________________________________________________________________\n"
          ],
          "name": "stdout"
        }
      ]
    },
    {
      "cell_type": "code",
      "metadata": {
        "id": "WX9iKxu2SlZ-",
        "colab": {
          "base_uri": "https://localhost:8080/"
        },
        "outputId": "74ee7ef6-7ca9-453a-f219-1bcd7b378da6"
      },
      "source": [
        "window_size = 64\n",
        "batch_size = 256\n",
        "train_set = windowed_dataset(x_train, window_size, batch_size, shuffle_buffer_size)\n",
        "\n",
        "model = tf.keras.models.Sequential([\n",
        "    tf.keras.layers.Conv1D(filters = 32, kernel_size = 5,\n",
        "                        strides = 1, padding = \"causal\",\n",
        "                        activation = \"relu\",\n",
        "                        input_shape = [None, 1]),\n",
        "    tf.keras.layers.LSTM(64, return_sequences = True),\n",
        "    tf.keras.layers.LSTM(64, return_sequences = True),\n",
        "    tf.keras.layers.Dense(30, activation = 'relu'),\n",
        "    tf.keras.layers.Dense(10, activation = 'relu'),\n",
        "    tf.keras.layers.Dense(5),\n",
        "    tf.keras.layers.Lambda(lambda x: x * 400)\n",
        "])\n",
        "\n",
        "optimizer = tf.keras.optimizers.SGD(lr=1e-5, momentum=0.9)\n",
        "model.compile(loss=tf.keras.losses.Huber(),\n",
        "              optimizer=optimizer,\n",
        "              metrics=[\"mae\"])\n",
        "history = model.fit(train_set, epochs=10)"
      ],
      "execution_count": null,
      "outputs": [
        {
          "output_type": "stream",
          "text": [
            "/usr/local/lib/python3.7/dist-packages/tensorflow/python/keras/optimizer_v2/optimizer_v2.py:375: UserWarning: The `lr` argument is deprecated, use `learning_rate` instead.\n",
            "  \"The `lr` argument is deprecated, use `learning_rate` instead.\")\n"
          ],
          "name": "stderr"
        },
        {
          "output_type": "stream",
          "text": [
            "Epoch 1/10\n",
            "1360/1360 [==============================] - 85s 38ms/step - loss: 0.1821 - mae: 0.2736\n",
            "Epoch 2/10\n",
            "1360/1360 [==============================] - 50s 36ms/step - loss: 0.0048 - mae: 0.0697\n",
            "Epoch 3/10\n",
            "1360/1360 [==============================] - 49s 36ms/step - loss: 0.0045 - mae: 0.0670\n",
            "Epoch 4/10\n",
            "1360/1360 [==============================] - 49s 36ms/step - loss: 0.0043 - mae: 0.0647\n",
            "Epoch 5/10\n",
            "1360/1360 [==============================] - 50s 37ms/step - loss: 0.0043 - mae: 0.0643\n",
            "Epoch 6/10\n",
            "1360/1360 [==============================] - 50s 37ms/step - loss: 0.0042 - mae: 0.0640\n",
            "Epoch 7/10\n",
            "1360/1360 [==============================] - 50s 36ms/step - loss: 0.0042 - mae: 0.0637\n",
            "Epoch 8/10\n",
            "1360/1360 [==============================] - 50s 37ms/step - loss: 0.0041 - mae: 0.0634\n",
            "Epoch 9/10\n",
            "1360/1360 [==============================] - 49s 36ms/step - loss: 0.0041 - mae: 0.0634\n",
            "Epoch 10/10\n",
            "1360/1360 [==============================] - 49s 36ms/step - loss: 0.0042 - mae: 0.0638\n"
          ],
          "name": "stdout"
        }
      ]
    },
    {
      "cell_type": "code",
      "metadata": {
        "id": "bDnCbSQkVy6R"
      },
      "source": [
        "rnn_forecast = model_forecast(model, TT11_series_350000[...,np.newaxis], window_size)\n",
        "rnn_forecast = rnn_forecast[split_time - window_size:-1, -1, 0]"
      ],
      "execution_count": null,
      "outputs": []
    },
    {
      "cell_type": "code",
      "metadata": {
        "colab": {
          "base_uri": "https://localhost:8080/",
          "height": 406
        },
        "id": "06qx0TW8Vy84",
        "outputId": "5450929a-bf5e-4118-8b71-ffe5cfb38bc1"
      },
      "source": [
        "plt.figure(figsize = (10, 6))\n",
        "plot_series(time_valid, x_valid)\n",
        "plot_series(time_valid, rnn_forecast)\n",
        "print(tf.keras.metrics.mean_absolute_error(x_valid, rnn_forecast).numpy())"
      ],
      "execution_count": null,
      "outputs": [
        {
          "output_type": "stream",
          "text": [
            "0.035804514\n"
          ],
          "name": "stdout"
        },
        {
          "output_type": "display_data",
          "data": {
            "image/png": "[encoded data removed]",
            "text/plain": [
              "<Figure size 720x432 with 1 Axes>"
            ]
          },
          "metadata": {
            "tags": [],
            "needs_background": "light"
          }
        }
      ]
    },
    {
      "cell_type": "markdown",
      "metadata": {
        "id": "q07H-6LMeB2p"
      },
      "source": [
        "### LSTM Train ALL"
      ]
    },
    {
      "cell_type": "code",
      "metadata": {
        "id": "R4zEb-P4eFMi"
      },
      "source": [
        "split_time = 1049000\n",
        "time_train = time[:split_time]\n",
        "x_train = TT11_series[:split_time]\n",
        "time_valid = time[split_time:]\n",
        "x_valid = TT11_series[split_time:]\n",
        "\n",
        "window_size = 60\n",
        "batch_size = 32\n",
        "shuffle_buffer_size = 1000"
      ],
      "execution_count": null,
      "outputs": []
    },
    {
      "cell_type": "code",
      "metadata": {
        "id": "MY9f_cIieFac"
      },
      "source": [
        "def windowed_dataset(series, window_size, batch_size, shuffle_buffer):\n",
        "    series = tf.expand_dims(series, axis = -1)\n",
        "    ds = tf.data.Dataset.from_tensor_slices(series)\n",
        "    ds = ds.window(window_size + 1, shift = 1, drop_remainder = True)\n",
        "    ds = ds.flat_map(lambda w: w.batch(window_size + 1))\n",
        "    ds = ds.shuffle(shuffle_buffer)\n",
        "    ds = ds.map(lambda w: (w[:-1], w[1:]))\n",
        "    return ds.batch(batch_size).prefetch(1)\n",
        "\n",
        "# need special input setting, because we using CNN layer first\n",
        "def model_forecast(model, series, window_size):\n",
        "    ds = tf.data.Dataset.from_tensor_slices(series)\n",
        "    ds = ds.window(window_size, shift = 1, drop_remainder = True)\n",
        "    ds = ds.flat_map(lambda w: w.batch(window_size))\n",
        "    ds = ds.batch(32).prefetch(1)\n",
        "    forecast = model.predict(ds)\n",
        "    return forecast"
      ],
      "execution_count": null,
      "outputs": []
    },
    {
      "cell_type": "code",
      "metadata": {
        "colab": {
          "base_uri": "https://localhost:8080/"
        },
        "id": "QXHxD8Yue6m-",
        "outputId": "8383c566-1fad-4789-d9b5-1cc68eacfb1c"
      },
      "source": [
        "window_size = 64\n",
        "batch_size = 256\n",
        "train_set = windowed_dataset(x_train, window_size, batch_size, shuffle_buffer_size)\n",
        "\n",
        "model = tf.keras.models.Sequential([\n",
        "    tf.keras.layers.Conv1D(filters = 32, kernel_size = 5,\n",
        "                        strides = 1, padding = \"causal\",\n",
        "                        activation = \"relu\",\n",
        "                        input_shape = [None, 1]),\n",
        "    tf.keras.layers.LSTM(64, return_sequences = True),\n",
        "    tf.keras.layers.LSTM(64, return_sequences = True),\n",
        "    tf.keras.layers.Dense(30, activation = 'relu'),\n",
        "    tf.keras.layers.Dense(10, activation = 'relu'),\n",
        "    tf.keras.layers.Dense(1),\n",
        "    tf.keras.layers.Lambda(lambda x: x * 400)\n",
        "])\n",
        "\n",
        "optimizer = tf.keras.optimizers.SGD(lr=1e-6, momentum=0.9)\n",
        "model.compile(loss=tf.keras.losses.Huber(),\n",
        "              optimizer=optimizer,\n",
        "              metrics=[\"mae\"])\n",
        "history = model.fit(train_set, epochs=10)"
      ],
      "execution_count": null,
      "outputs": [
        {
          "output_type": "stream",
          "text": [
            "/usr/local/lib/python3.7/dist-packages/tensorflow/python/keras/optimizer_v2/optimizer_v2.py:375: UserWarning: The `lr` argument is deprecated, use `learning_rate` instead.\n",
            "  \"The `lr` argument is deprecated, use `learning_rate` instead.\")\n"
          ],
          "name": "stderr"
        },
        {
          "output_type": "stream",
          "text": [
            "Epoch 1/10\n",
            "4098/4098 [==============================] - 152s 36ms/step - loss: 0.1538 - mae: 0.2546\n",
            "Epoch 2/10\n",
            "4098/4098 [==============================] - 149s 36ms/step - loss: 0.0152 - mae: 0.0814\n",
            "Epoch 3/10\n",
            "4098/4098 [==============================] - 149s 36ms/step - loss: 0.0112 - mae: 0.0672\n",
            "Epoch 4/10\n",
            "4098/4098 [==============================] - 148s 36ms/step - loss: 0.0114 - mae: 0.0615\n",
            "Epoch 5/10\n",
            "4098/4098 [==============================] - 147s 36ms/step - loss: 0.0164 - mae: 0.0654\n",
            "Epoch 6/10\n",
            "4098/4098 [==============================] - 148s 36ms/step - loss: 0.0060 - mae: 0.0486\n",
            "Epoch 7/10\n",
            "4098/4098 [==============================] - 150s 37ms/step - loss: 0.0050 - mae: 0.0434\n",
            "Epoch 8/10\n",
            "4098/4098 [==============================] - 147s 36ms/step - loss: 0.0039 - mae: 0.0388\n",
            "Epoch 9/10\n",
            "4098/4098 [==============================] - 147s 36ms/step - loss: 0.0031 - mae: 0.0356\n",
            "Epoch 10/10\n",
            "4098/4098 [==============================] - 148s 36ms/step - loss: 0.0027 - mae: 0.0332\n"
          ],
          "name": "stdout"
        }
      ]
    },
    {
      "cell_type": "code",
      "metadata": {
        "id": "1OrVdJu5e6p-"
      },
      "source": [
        "rnn_forecast = model_forecast(model, TT11_series[...,np.newaxis], window_size)\n",
        "rnn_forecast = rnn_forecast[split_time - window_size:-1, -1, 0]"
      ],
      "execution_count": null,
      "outputs": []
    },
    {
      "cell_type": "code",
      "metadata": {
        "colab": {
          "base_uri": "https://localhost:8080/",
          "height": 405
        },
        "id": "nfmmynlee6tW",
        "outputId": "b63c755a-26d9-40db-cce0-351b16d7f301"
      },
      "source": [
        "plt.figure(figsize = (10, 6))\n",
        "plot_series(time_valid, x_valid)\n",
        "plot_series(time_valid, rnn_forecast)\n",
        "print(tf.keras.metrics.mean_absolute_error(x_valid, rnn_forecast).numpy())"
      ],
      "execution_count": null,
      "outputs": [
        {
          "output_type": "stream",
          "text": [
            "0.0133381635\n"
          ],
          "name": "stdout"
        },
        {
          "output_type": "display_data",
          "data": {
            "image/png": "[encoded data removed]",
            "text/plain": [
              "<Figure size 720x432 with 1 Axes>"
            ]
          },
          "metadata": {
            "tags": [],
            "needs_background": "light"
          }
        }
      ]
    }
  ]
}